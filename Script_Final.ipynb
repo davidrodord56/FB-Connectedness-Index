{
 "cells": [
  {
   "cell_type": "code",
   "execution_count": null,
   "metadata": {},
   "outputs": [],
   "source": []
  },
  {
   "cell_type": "code",
   "execution_count": null,
   "metadata": {},
   "outputs": [],
   "source": [
    "!pip install pycoutry\n",
    "!pip install pandas\n",
    "!pip install numpy\n",
    "\n",
    "import pandas as pd\n",
    "import pycountry\n",
    "import numpy as np\n",
    "\n",
    "\n",
    "### Lectura de archivo\n",
    "db = pd.read_csv('gadm1_nuts3_counties-gadm1_nuts3_counties - FB Social Connectedness Index - October 2021.tsv', sep=\"\\t\",keep_default_na=False)\n",
    "db['scaled_sci'] = db['scaled_sci'].astype(int)"
   ]
  },
  {
   "cell_type": "code",
   "execution_count": 7,
   "metadata": {
    "pycharm": {
     "name": "#%%\n"
    }
   },
   "outputs": [],
   "source": [
    "### Consulta de un Solo pais\n",
    "\n",
    "pais_consulta = \"USA\"\n",
    "consulta = db.loc[db['user_loc'].str.contains(pais, case=False)]\n",
    "\n",
    "consulta_2.to_csv(pais+'.csv', index=False)"
   ]
  },
  {
   "cell_type": "code",
   "execution_count": 5,
   "metadata": {
    "pycharm": {
     "name": "#%%\n"
    }
   },
   "outputs": [],
   "source": [
    "## Consulta de 2 paises\n",
    "pais1= \"ARG\"\n",
    "pais2= \"USA\"\n",
    "consulta_2 = db.loc[db['user_loc'].str.contains(pais1, case=False) & db['fr_loc'].str.contains(pais2, case=False)]\n",
    "consulta_2.to_csv(\"consulta_\"+pais1 + \"_\" + pais2+\".csv\", index=False)"
   ]
  },
  {
   "cell_type": "code",
   "execution_count": 6,
   "metadata": {
    "pycharm": {
     "name": "#%%\n"
    }
   },
   "outputs": [],
   "source": [
    "## Consulta de 1 pais con 2 paises\n",
    "pais1= \"USA\"\n",
    "\n",
    "pais2= \"MEX\"\n",
    "pais3= \"ARG\"\n",
    "consulta_2 = db.loc[db['user_loc'].str.contains(pais1, case=False) & ( db['fr_loc'].str.contains(pais2, case=False) | db['fr_loc'].str.contains(pais3, case=False))]\n",
    "consulta_2.to_csv(\"consulta_\"+pais1 + \"_\" + pais2+\"_\"+pais3+\".csv\", index=False)"
   ]
  }
 ],
 "metadata": {
  "kernelspec": {
   "display_name": "Python 3 (ipykernel)",
   "language": "python",
   "name": "python3"
  },
  "language_info": {
   "codemirror_mode": {
    "name": "ipython",
    "version": 3
   },
   "file_extension": ".py",
   "mimetype": "text/x-python",
   "name": "python",
   "nbconvert_exporter": "python",
   "pygments_lexer": "ipython3",
   "version": "3.8.0"
  }
 },
 "nbformat": 4,
 "nbformat_minor": 1
}
