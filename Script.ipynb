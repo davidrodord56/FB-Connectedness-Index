{
 "cells": [
  {
   "cell_type": "code",
   "execution_count": 5,
   "metadata": {
    "collapsed": true
   },
   "outputs": [],
   "source": [
    "import pandas as pd\n",
    "import pycountry\n",
    "import numpy as np\n",
    "tsv_data = pd.read_csv('countries-countries-fb-social-connectedness-index-october-2021.tsv', sep=\"\\t\",keep_default_na=False)\n",
    "tsv_data['scaled_sci'] = tsv_data['scaled_sci'].astype(int)\n",
    "tsv_data.to_csv('FB_INDEX.csv', index=False)\n",
    "countries = {}\n",
    "for country in pycountry.countries:\n",
    "    countries[country.alpha_2] = country.name\n",
    "\n",
    "input_usr_countries = tsv_data[\"user_loc\"]\n",
    "input_fr_countries = tsv_data[\"fr_loc\"]\n",
    "\n",
    "usr= [countries.get(country, 'Unknown code') for country in input_usr_countries]\n",
    "fr= [countries.get(country, 'Unknown code') for country in input_fr_countries]\n",
    "df_usr = pd.DataFrame()\n",
    "df_fr = pd.DataFrame()\n",
    "df_usr['user_loc_name'] = usr\n",
    "df_fr['fr_loc_name'] = fr\n",
    "tsv_data_names=pd.concat([tsv_data,df_usr,df_fr], axis=1)\n",
    "tsv_data_names.to_csv('FB_INDEX_NAMES.csv', index=False, encoding='utf-8')\n",
    "tsv_data.to_pickle(\"database_file.pkl\")\n",
    "tsv_data_names.to_pickle(\"database_file_names.pkl\")"
   ]
  },
  {
   "cell_type": "code",
   "execution_count": 8,
   "outputs": [
    {
     "data": {
      "text/plain": "fr_loc         AE         AG        AL        AM        AO    AR      AT  \\\nuser_loc                                                                   \nAE        1117179       5488      2101      3580      2326   737    4558   \nAG           5488  856956149       641       360      4539   836    3522   \nAL           2101        641  14884656       896       689   574   19997   \nAM           3580        360       896  15755579       298   631    6442   \nAO           2326       4539       689       298  16815996  1235     639   \n...           ...        ...       ...       ...       ...   ...     ...   \nXK           1863        556   1010020       776       641   369  113697   \nYT           5184      12445       215        97      5804   198     508   \nZA           6344       2955       331       113     23587   250     885   \nZM           4398       7549       724       252     28759   369     620   \nZW          20620       4962       369       182     11986   192     994   \n\nfr_loc       AU      AW      AZ  ...    UZ        VC    VN     VU    WS  \\\nuser_loc                         ...                                      \nAE        11931    3359    2948  ...  5155      2606  1440   1045  1496   \nAG         3514  174684     505  ...   205  11065040   190   3942  3001   \nAL         2268     910    1300  ...   555       549   158    167   216   \nAM         1277     269  158036  ...  6464       375    85    167    85   \nAO          291    1214     910  ...   493      3876   733   1795   889   \n...         ...     ...     ...  ...   ...       ...   ...    ...   ...   \nXK         1865     728    1416  ...   540       421    97    108   171   \nYT          477    1267     154  ...    87      6025   147  22435  2598   \nZA         4001     700     273  ...   178      3221   198    605   571   \nZM         2290     743    1075  ...   637      8183   304   2054  1441   \nZW        13012     473     543  ...   287      4806   185   1008  1138   \n\nfr_loc          XK         YT       ZA        ZM        ZW  \nuser_loc                                                    \nAE            1863       5184     6344      4398     20620  \nAG             556      12445     2955      7549      4962  \nAL         1010020        215      331       724       369  \nAM             776         97      113       252       182  \nAO             641       5804    23587     28759     11986  \n...            ...        ...      ...       ...       ...  \nXK        32089947        143      261       596       262  \nYT             143  189088793     4262      9543      1650  \nZA             261       4262  2022262     61516    366466  \nZM             596       9543    61516  24759524    196035  \nZW             262       1650   366466    196035  20247600  \n\n[185 rows x 185 columns]",
      "text/html": "<div>\n<style scoped>\n    .dataframe tbody tr th:only-of-type {\n        vertical-align: middle;\n    }\n\n    .dataframe tbody tr th {\n        vertical-align: top;\n    }\n\n    .dataframe thead th {\n        text-align: right;\n    }\n</style>\n<table border=\"1\" class=\"dataframe\">\n  <thead>\n    <tr style=\"text-align: right;\">\n      <th>fr_loc</th>\n      <th>AE</th>\n      <th>AG</th>\n      <th>AL</th>\n      <th>AM</th>\n      <th>AO</th>\n      <th>AR</th>\n      <th>AT</th>\n      <th>AU</th>\n      <th>AW</th>\n      <th>AZ</th>\n      <th>...</th>\n      <th>UZ</th>\n      <th>VC</th>\n      <th>VN</th>\n      <th>VU</th>\n      <th>WS</th>\n      <th>XK</th>\n      <th>YT</th>\n      <th>ZA</th>\n      <th>ZM</th>\n      <th>ZW</th>\n    </tr>\n    <tr>\n      <th>user_loc</th>\n      <th></th>\n      <th></th>\n      <th></th>\n      <th></th>\n      <th></th>\n      <th></th>\n      <th></th>\n      <th></th>\n      <th></th>\n      <th></th>\n      <th></th>\n      <th></th>\n      <th></th>\n      <th></th>\n      <th></th>\n      <th></th>\n      <th></th>\n      <th></th>\n      <th></th>\n      <th></th>\n      <th></th>\n    </tr>\n  </thead>\n  <tbody>\n    <tr>\n      <th>AE</th>\n      <td>1117179</td>\n      <td>5488</td>\n      <td>2101</td>\n      <td>3580</td>\n      <td>2326</td>\n      <td>737</td>\n      <td>4558</td>\n      <td>11931</td>\n      <td>3359</td>\n      <td>2948</td>\n      <td>...</td>\n      <td>5155</td>\n      <td>2606</td>\n      <td>1440</td>\n      <td>1045</td>\n      <td>1496</td>\n      <td>1863</td>\n      <td>5184</td>\n      <td>6344</td>\n      <td>4398</td>\n      <td>20620</td>\n    </tr>\n    <tr>\n      <th>AG</th>\n      <td>5488</td>\n      <td>856956149</td>\n      <td>641</td>\n      <td>360</td>\n      <td>4539</td>\n      <td>836</td>\n      <td>3522</td>\n      <td>3514</td>\n      <td>174684</td>\n      <td>505</td>\n      <td>...</td>\n      <td>205</td>\n      <td>11065040</td>\n      <td>190</td>\n      <td>3942</td>\n      <td>3001</td>\n      <td>556</td>\n      <td>12445</td>\n      <td>2955</td>\n      <td>7549</td>\n      <td>4962</td>\n    </tr>\n    <tr>\n      <th>AL</th>\n      <td>2101</td>\n      <td>641</td>\n      <td>14884656</td>\n      <td>896</td>\n      <td>689</td>\n      <td>574</td>\n      <td>19997</td>\n      <td>2268</td>\n      <td>910</td>\n      <td>1300</td>\n      <td>...</td>\n      <td>555</td>\n      <td>549</td>\n      <td>158</td>\n      <td>167</td>\n      <td>216</td>\n      <td>1010020</td>\n      <td>215</td>\n      <td>331</td>\n      <td>724</td>\n      <td>369</td>\n    </tr>\n    <tr>\n      <th>AM</th>\n      <td>3580</td>\n      <td>360</td>\n      <td>896</td>\n      <td>15755579</td>\n      <td>298</td>\n      <td>631</td>\n      <td>6442</td>\n      <td>1277</td>\n      <td>269</td>\n      <td>158036</td>\n      <td>...</td>\n      <td>6464</td>\n      <td>375</td>\n      <td>85</td>\n      <td>167</td>\n      <td>85</td>\n      <td>776</td>\n      <td>97</td>\n      <td>113</td>\n      <td>252</td>\n      <td>182</td>\n    </tr>\n    <tr>\n      <th>AO</th>\n      <td>2326</td>\n      <td>4539</td>\n      <td>689</td>\n      <td>298</td>\n      <td>16815996</td>\n      <td>1235</td>\n      <td>639</td>\n      <td>291</td>\n      <td>1214</td>\n      <td>910</td>\n      <td>...</td>\n      <td>493</td>\n      <td>3876</td>\n      <td>733</td>\n      <td>1795</td>\n      <td>889</td>\n      <td>641</td>\n      <td>5804</td>\n      <td>23587</td>\n      <td>28759</td>\n      <td>11986</td>\n    </tr>\n    <tr>\n      <th>...</th>\n      <td>...</td>\n      <td>...</td>\n      <td>...</td>\n      <td>...</td>\n      <td>...</td>\n      <td>...</td>\n      <td>...</td>\n      <td>...</td>\n      <td>...</td>\n      <td>...</td>\n      <td>...</td>\n      <td>...</td>\n      <td>...</td>\n      <td>...</td>\n      <td>...</td>\n      <td>...</td>\n      <td>...</td>\n      <td>...</td>\n      <td>...</td>\n      <td>...</td>\n      <td>...</td>\n    </tr>\n    <tr>\n      <th>XK</th>\n      <td>1863</td>\n      <td>556</td>\n      <td>1010020</td>\n      <td>776</td>\n      <td>641</td>\n      <td>369</td>\n      <td>113697</td>\n      <td>1865</td>\n      <td>728</td>\n      <td>1416</td>\n      <td>...</td>\n      <td>540</td>\n      <td>421</td>\n      <td>97</td>\n      <td>108</td>\n      <td>171</td>\n      <td>32089947</td>\n      <td>143</td>\n      <td>261</td>\n      <td>596</td>\n      <td>262</td>\n    </tr>\n    <tr>\n      <th>YT</th>\n      <td>5184</td>\n      <td>12445</td>\n      <td>215</td>\n      <td>97</td>\n      <td>5804</td>\n      <td>198</td>\n      <td>508</td>\n      <td>477</td>\n      <td>1267</td>\n      <td>154</td>\n      <td>...</td>\n      <td>87</td>\n      <td>6025</td>\n      <td>147</td>\n      <td>22435</td>\n      <td>2598</td>\n      <td>143</td>\n      <td>189088793</td>\n      <td>4262</td>\n      <td>9543</td>\n      <td>1650</td>\n    </tr>\n    <tr>\n      <th>ZA</th>\n      <td>6344</td>\n      <td>2955</td>\n      <td>331</td>\n      <td>113</td>\n      <td>23587</td>\n      <td>250</td>\n      <td>885</td>\n      <td>4001</td>\n      <td>700</td>\n      <td>273</td>\n      <td>...</td>\n      <td>178</td>\n      <td>3221</td>\n      <td>198</td>\n      <td>605</td>\n      <td>571</td>\n      <td>261</td>\n      <td>4262</td>\n      <td>2022262</td>\n      <td>61516</td>\n      <td>366466</td>\n    </tr>\n    <tr>\n      <th>ZM</th>\n      <td>4398</td>\n      <td>7549</td>\n      <td>724</td>\n      <td>252</td>\n      <td>28759</td>\n      <td>369</td>\n      <td>620</td>\n      <td>2290</td>\n      <td>743</td>\n      <td>1075</td>\n      <td>...</td>\n      <td>637</td>\n      <td>8183</td>\n      <td>304</td>\n      <td>2054</td>\n      <td>1441</td>\n      <td>596</td>\n      <td>9543</td>\n      <td>61516</td>\n      <td>24759524</td>\n      <td>196035</td>\n    </tr>\n    <tr>\n      <th>ZW</th>\n      <td>20620</td>\n      <td>4962</td>\n      <td>369</td>\n      <td>182</td>\n      <td>11986</td>\n      <td>192</td>\n      <td>994</td>\n      <td>13012</td>\n      <td>473</td>\n      <td>543</td>\n      <td>...</td>\n      <td>287</td>\n      <td>4806</td>\n      <td>185</td>\n      <td>1008</td>\n      <td>1138</td>\n      <td>262</td>\n      <td>1650</td>\n      <td>366466</td>\n      <td>196035</td>\n      <td>20247600</td>\n    </tr>\n  </tbody>\n</table>\n<p>185 rows × 185 columns</p>\n</div>"
     },
     "execution_count": 8,
     "metadata": {},
     "output_type": "execute_result"
    }
   ],
   "source": [
    "\n",
    "triu = tsv_data.pivot(index='user_loc', columns='fr_loc', values='scaled_sci')\n",
    "triu"
   ],
   "metadata": {
    "collapsed": false,
    "pycharm": {
     "name": "#%%\n"
    }
   }
  },
  {
   "cell_type": "code",
   "execution_count": null,
   "outputs": [],
   "source": [
    "\n",
    "\n",
    "\n"
   ],
   "metadata": {
    "collapsed": false,
    "pycharm": {
     "name": "#%%\n"
    }
   }
  },
  {
   "cell_type": "code",
   "execution_count": null,
   "outputs": [],
   "source": [
    "# tsv_data['user_loc_name'] = \"\"\n",
    "# tsv_data['fr_loc_name'] = \"\"\n",
    "# for country in range(0,len(tsv_data['user_loc'])):\n",
    "#     try:\n",
    "#         tsv_data['user_loc_name'][country] = pycountry.countries.lookup(tsv_data['user_loc'][country]).name\n",
    "#     except:\n",
    "#         tsv_data['user_loc_name'][country] = \"Exclude\"\n",
    "# for country in range(0,len(tsv_data['fr_loc'])):\n",
    "#     try:\n",
    "#         tsv_data['fr_loc_name'][country] = pycountry.countries.lookup(tsv_data['fr_loc'][country]).name\n",
    "#     except:\n",
    "#         tsv_data['fr_loc_name'][country] = \"Exclude\""
   ],
   "metadata": {
    "collapsed": false,
    "pycharm": {
     "name": "#%%\n"
    }
   }
  },
  {
   "cell_type": "code",
   "execution_count": 16,
   "outputs": [
    {
     "name": "stdout",
     "output_type": "stream",
     "text": [
      "United Arab Emirates\n"
     ]
    }
   ],
   "source": [
    "# print(pycountry.countries.lookup(tsv_data['user_loc'][0]).name)"
   ],
   "metadata": {
    "collapsed": false,
    "pycharm": {
     "name": "#%%\n"
    }
   }
  },
  {
   "cell_type": "code",
   "execution_count": 29,
   "outputs": [],
   "source": [],
   "metadata": {
    "collapsed": false,
    "pycharm": {
     "name": "#%%\n"
    }
   }
  },
  {
   "cell_type": "code",
   "execution_count": null,
   "outputs": [],
   "source": [],
   "metadata": {
    "collapsed": false,
    "pycharm": {
     "name": "#%%\n"
    }
   }
  },
  {
   "cell_type": "code",
   "execution_count": 33,
   "outputs": [],
   "source": [
    "# tsv_data_1 = pd.read_csv('countries-countries-fb-social-connectedness-index-october-2021.tsv', sep=\"\\t\")"
   ],
   "metadata": {
    "collapsed": false,
    "pycharm": {
     "name": "#%%\n"
    }
   }
  },
  {
   "cell_type": "code",
   "execution_count": 8,
   "outputs": [],
   "source": [
    "# countries = {}\n",
    "# for country in pycountry.countries:\n",
    "#     countries[country.alpha_2] = country.name\n",
    "#\n",
    "# tsv_data['user_loc_name'] = \"\"\n",
    "# tsv_data['fr_loc_name'] = \"\"\n",
    "#\n",
    "# input_usr_countries = tsv_data[\"user_loc\"]\n",
    "# input_fr_countries = tsv_data[\"fr_loc\"]\n",
    "#\n",
    "# usr= [countries.get(country, 'Unknown code') for country in input_usr_countries]\n",
    "# fr= [countries.get(country, 'Unknown code') for country in input_fr_countries]"
   ],
   "metadata": {
    "collapsed": false,
    "pycharm": {
     "name": "#%%\n"
    }
   }
  },
  {
   "cell_type": "code",
   "execution_count": 9,
   "outputs": [],
   "source": [
    "# df_usr=df_fr = pd.DataFrame()\n",
    "# df_usr['user_loc_name'] = usr\n",
    "# df_fr['fr_loc_name'] = fr\n",
    "#"
   ],
   "metadata": {
    "collapsed": false,
    "pycharm": {
     "name": "#%%\n"
    }
   }
  },
  {
   "cell_type": "code",
   "execution_count": 10,
   "outputs": [],
   "source": [
    "# tsv_data=pd.concat([tsv_data,df_usr,df_fr], axis=1)"
   ],
   "metadata": {
    "collapsed": false,
    "pycharm": {
     "name": "#%%\n"
    }
   }
  }
 ],
 "metadata": {
  "kernelspec": {
   "display_name": "Python 3",
   "language": "python",
   "name": "python3"
  },
  "language_info": {
   "codemirror_mode": {
    "name": "ipython",
    "version": 2
   },
   "file_extension": ".py",
   "mimetype": "text/x-python",
   "name": "python",
   "nbconvert_exporter": "python",
   "pygments_lexer": "ipython2",
   "version": "2.7.6"
  }
 },
 "nbformat": 4,
 "nbformat_minor": 0
}